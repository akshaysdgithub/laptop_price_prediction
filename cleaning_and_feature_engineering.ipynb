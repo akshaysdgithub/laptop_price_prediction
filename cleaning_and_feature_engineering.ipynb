{
 "cells": [
  {
   "cell_type": "code",
   "execution_count": 63,
   "id": "6efb3a60",
   "metadata": {},
   "outputs": [],
   "source": [
    "import os\n",
    "import re\n",
    "import numpy as np\n",
    "import pandas as pd\n",
    "import seaborn as sns\n",
    "from matplotlib import pyplot as plt"
   ]
  },
  {
   "cell_type": "code",
   "execution_count": 2,
   "id": "96b65e61",
   "metadata": {},
   "outputs": [
    {
     "data": {
      "text/html": [
       "<div>\n",
       "<style scoped>\n",
       "    .dataframe tbody tr th:only-of-type {\n",
       "        vertical-align: middle;\n",
       "    }\n",
       "\n",
       "    .dataframe tbody tr th {\n",
       "        vertical-align: top;\n",
       "    }\n",
       "\n",
       "    .dataframe thead th {\n",
       "        text-align: right;\n",
       "    }\n",
       "</style>\n",
       "<table border=\"1\" class=\"dataframe\">\n",
       "  <thead>\n",
       "    <tr style=\"text-align: right;\">\n",
       "      <th></th>\n",
       "      <th>Unnamed: 0.1</th>\n",
       "      <th>Unnamed: 0</th>\n",
       "      <th>Company</th>\n",
       "      <th>TypeName</th>\n",
       "      <th>Inches</th>\n",
       "      <th>ScreenResolution</th>\n",
       "      <th>Cpu</th>\n",
       "      <th>Ram</th>\n",
       "      <th>Memory</th>\n",
       "      <th>Gpu</th>\n",
       "      <th>OpSys</th>\n",
       "      <th>Weight</th>\n",
       "      <th>Price</th>\n",
       "    </tr>\n",
       "  </thead>\n",
       "  <tbody>\n",
       "    <tr>\n",
       "      <th>0</th>\n",
       "      <td>0</td>\n",
       "      <td>0.0</td>\n",
       "      <td>Apple</td>\n",
       "      <td>Ultrabook</td>\n",
       "      <td>13.3</td>\n",
       "      <td>IPS Panel Retina Display 2560x1600</td>\n",
       "      <td>Intel Core i5 2.3GHz</td>\n",
       "      <td>8GB</td>\n",
       "      <td>128GB SSD</td>\n",
       "      <td>Intel Iris Plus Graphics 640</td>\n",
       "      <td>macOS</td>\n",
       "      <td>1.37kg</td>\n",
       "      <td>71378.6832</td>\n",
       "    </tr>\n",
       "    <tr>\n",
       "      <th>1</th>\n",
       "      <td>1</td>\n",
       "      <td>1.0</td>\n",
       "      <td>Apple</td>\n",
       "      <td>Ultrabook</td>\n",
       "      <td>13.3</td>\n",
       "      <td>1440x900</td>\n",
       "      <td>Intel Core i5 1.8GHz</td>\n",
       "      <td>8GB</td>\n",
       "      <td>128GB Flash Storage</td>\n",
       "      <td>Intel HD Graphics 6000</td>\n",
       "      <td>macOS</td>\n",
       "      <td>1.34kg</td>\n",
       "      <td>47895.5232</td>\n",
       "    </tr>\n",
       "    <tr>\n",
       "      <th>2</th>\n",
       "      <td>2</td>\n",
       "      <td>2.0</td>\n",
       "      <td>HP</td>\n",
       "      <td>Notebook</td>\n",
       "      <td>15.6</td>\n",
       "      <td>Full HD 1920x1080</td>\n",
       "      <td>Intel Core i5 7200U 2.5GHz</td>\n",
       "      <td>8GB</td>\n",
       "      <td>256GB SSD</td>\n",
       "      <td>Intel HD Graphics 620</td>\n",
       "      <td>No OS</td>\n",
       "      <td>1.86kg</td>\n",
       "      <td>30636.0000</td>\n",
       "    </tr>\n",
       "  </tbody>\n",
       "</table>\n",
       "</div>"
      ],
      "text/plain": [
       "   Unnamed: 0.1  Unnamed: 0 Company   TypeName Inches  \\\n",
       "0             0         0.0   Apple  Ultrabook   13.3   \n",
       "1             1         1.0   Apple  Ultrabook   13.3   \n",
       "2             2         2.0      HP   Notebook   15.6   \n",
       "\n",
       "                     ScreenResolution                         Cpu  Ram  \\\n",
       "0  IPS Panel Retina Display 2560x1600        Intel Core i5 2.3GHz  8GB   \n",
       "1                            1440x900        Intel Core i5 1.8GHz  8GB   \n",
       "2                   Full HD 1920x1080  Intel Core i5 7200U 2.5GHz  8GB   \n",
       "\n",
       "                Memory                           Gpu  OpSys  Weight  \\\n",
       "0            128GB SSD  Intel Iris Plus Graphics 640  macOS  1.37kg   \n",
       "1  128GB Flash Storage        Intel HD Graphics 6000  macOS  1.34kg   \n",
       "2            256GB SSD         Intel HD Graphics 620  No OS  1.86kg   \n",
       "\n",
       "        Price  \n",
       "0  71378.6832  \n",
       "1  47895.5232  \n",
       "2  30636.0000  "
      ]
     },
     "execution_count": 2,
     "metadata": {},
     "output_type": "execute_result"
    }
   ],
   "source": [
    "df=pd.read_csv(\"laptop.csv\")\n",
    "df.head(3)"
   ]
  },
  {
   "cell_type": "code",
   "execution_count": 3,
   "id": "e5322bc1",
   "metadata": {},
   "outputs": [
    {
     "name": "stdout",
     "output_type": "stream",
     "text": [
      "<class 'pandas.core.frame.DataFrame'>\n",
      "RangeIndex: 1303 entries, 0 to 1302\n",
      "Data columns (total 13 columns):\n",
      " #   Column            Non-Null Count  Dtype  \n",
      "---  ------            --------------  -----  \n",
      " 0   Unnamed: 0.1      1303 non-null   int64  \n",
      " 1   Unnamed: 0        1273 non-null   float64\n",
      " 2   Company           1273 non-null   object \n",
      " 3   TypeName          1273 non-null   object \n",
      " 4   Inches            1273 non-null   object \n",
      " 5   ScreenResolution  1273 non-null   object \n",
      " 6   Cpu               1273 non-null   object \n",
      " 7   Ram               1273 non-null   object \n",
      " 8   Memory            1273 non-null   object \n",
      " 9   Gpu               1273 non-null   object \n",
      " 10  OpSys             1273 non-null   object \n",
      " 11  Weight            1273 non-null   object \n",
      " 12  Price             1273 non-null   float64\n",
      "dtypes: float64(2), int64(1), object(10)\n",
      "memory usage: 132.5+ KB\n"
     ]
    }
   ],
   "source": [
    "df.info()"
   ]
  },
  {
   "cell_type": "code",
   "execution_count": 4,
   "id": "5458a4de",
   "metadata": {},
   "outputs": [
    {
     "data": {
      "text/plain": [
       "Unnamed: 0.1         0\n",
       "Unnamed: 0          30\n",
       "Company             30\n",
       "TypeName            30\n",
       "Inches              30\n",
       "ScreenResolution    30\n",
       "Cpu                 30\n",
       "Ram                 30\n",
       "Memory              30\n",
       "Gpu                 30\n",
       "OpSys               30\n",
       "Weight              30\n",
       "Price               30\n",
       "dtype: int64"
      ]
     },
     "execution_count": 4,
     "metadata": {},
     "output_type": "execute_result"
    }
   ],
   "source": [
    "df.isnull().sum()"
   ]
  },
  {
   "cell_type": "code",
   "execution_count": 5,
   "id": "f4c51a85",
   "metadata": {},
   "outputs": [
    {
     "data": {
      "text/plain": [
       "Index([  20,   46,   50,  115,  125,  148,  190,  209,  267,  336,  350,  478,\n",
       "        567,  616,  625,  629,  666,  699,  726,  747,  753,  774,  922,  923,\n",
       "        938,  978,  994, 1060, 1202, 1245],\n",
       "      dtype='int64')"
      ]
     },
     "execution_count": 5,
     "metadata": {},
     "output_type": "execute_result"
    }
   ],
   "source": [
    "df[df[\"Company\"].isnull()==True].index"
   ]
  },
  {
   "cell_type": "code",
   "execution_count": 6,
   "id": "b560e225",
   "metadata": {},
   "outputs": [],
   "source": [
    "df.dropna(axis=0,inplace=True)"
   ]
  },
  {
   "cell_type": "code",
   "execution_count": 7,
   "id": "7ab6e8c2",
   "metadata": {},
   "outputs": [
    {
     "data": {
      "text/plain": [
       "(1273, 13)"
      ]
     },
     "execution_count": 7,
     "metadata": {},
     "output_type": "execute_result"
    }
   ],
   "source": [
    "df.shape"
   ]
  },
  {
   "cell_type": "code",
   "execution_count": 8,
   "id": "daecd3e5",
   "metadata": {},
   "outputs": [
    {
     "data": {
      "text/plain": [
       "Unnamed: 0.1        1273\n",
       "Unnamed: 0          1273\n",
       "Company               19\n",
       "TypeName               6\n",
       "Inches                25\n",
       "ScreenResolution      40\n",
       "Cpu                  118\n",
       "Ram                   10\n",
       "Memory                40\n",
       "Gpu                  110\n",
       "OpSys                  9\n",
       "Weight               189\n",
       "Price                777\n",
       "dtype: int64"
      ]
     },
     "execution_count": 8,
     "metadata": {},
     "output_type": "execute_result"
    }
   ],
   "source": [
    "df.nunique()"
   ]
  },
  {
   "cell_type": "code",
   "execution_count": 9,
   "id": "418ed942",
   "metadata": {},
   "outputs": [
    {
     "data": {
      "text/html": [
       "<div>\n",
       "<style scoped>\n",
       "    .dataframe tbody tr th:only-of-type {\n",
       "        vertical-align: middle;\n",
       "    }\n",
       "\n",
       "    .dataframe tbody tr th {\n",
       "        vertical-align: top;\n",
       "    }\n",
       "\n",
       "    .dataframe thead th {\n",
       "        text-align: right;\n",
       "    }\n",
       "</style>\n",
       "<table border=\"1\" class=\"dataframe\">\n",
       "  <thead>\n",
       "    <tr style=\"text-align: right;\">\n",
       "      <th></th>\n",
       "      <th>Company</th>\n",
       "      <th>TypeName</th>\n",
       "      <th>Inches</th>\n",
       "      <th>ScreenResolution</th>\n",
       "      <th>Cpu</th>\n",
       "      <th>Ram</th>\n",
       "      <th>Memory</th>\n",
       "      <th>Gpu</th>\n",
       "      <th>OpSys</th>\n",
       "      <th>Weight</th>\n",
       "      <th>Price</th>\n",
       "    </tr>\n",
       "  </thead>\n",
       "  <tbody>\n",
       "    <tr>\n",
       "      <th>0</th>\n",
       "      <td>Apple</td>\n",
       "      <td>Ultrabook</td>\n",
       "      <td>13.3</td>\n",
       "      <td>IPS Panel Retina Display 2560x1600</td>\n",
       "      <td>Intel Core i5 2.3GHz</td>\n",
       "      <td>8GB</td>\n",
       "      <td>128GB SSD</td>\n",
       "      <td>Intel Iris Plus Graphics 640</td>\n",
       "      <td>macOS</td>\n",
       "      <td>1.37kg</td>\n",
       "      <td>71378.6832</td>\n",
       "    </tr>\n",
       "    <tr>\n",
       "      <th>1</th>\n",
       "      <td>Apple</td>\n",
       "      <td>Ultrabook</td>\n",
       "      <td>13.3</td>\n",
       "      <td>1440x900</td>\n",
       "      <td>Intel Core i5 1.8GHz</td>\n",
       "      <td>8GB</td>\n",
       "      <td>128GB Flash Storage</td>\n",
       "      <td>Intel HD Graphics 6000</td>\n",
       "      <td>macOS</td>\n",
       "      <td>1.34kg</td>\n",
       "      <td>47895.5232</td>\n",
       "    </tr>\n",
       "    <tr>\n",
       "      <th>2</th>\n",
       "      <td>HP</td>\n",
       "      <td>Notebook</td>\n",
       "      <td>15.6</td>\n",
       "      <td>Full HD 1920x1080</td>\n",
       "      <td>Intel Core i5 7200U 2.5GHz</td>\n",
       "      <td>8GB</td>\n",
       "      <td>256GB SSD</td>\n",
       "      <td>Intel HD Graphics 620</td>\n",
       "      <td>No OS</td>\n",
       "      <td>1.86kg</td>\n",
       "      <td>30636.0000</td>\n",
       "    </tr>\n",
       "  </tbody>\n",
       "</table>\n",
       "</div>"
      ],
      "text/plain": [
       "  Company   TypeName Inches                    ScreenResolution  \\\n",
       "0   Apple  Ultrabook   13.3  IPS Panel Retina Display 2560x1600   \n",
       "1   Apple  Ultrabook   13.3                            1440x900   \n",
       "2      HP   Notebook   15.6                   Full HD 1920x1080   \n",
       "\n",
       "                          Cpu  Ram               Memory  \\\n",
       "0        Intel Core i5 2.3GHz  8GB            128GB SSD   \n",
       "1        Intel Core i5 1.8GHz  8GB  128GB Flash Storage   \n",
       "2  Intel Core i5 7200U 2.5GHz  8GB            256GB SSD   \n",
       "\n",
       "                            Gpu  OpSys  Weight       Price  \n",
       "0  Intel Iris Plus Graphics 640  macOS  1.37kg  71378.6832  \n",
       "1        Intel HD Graphics 6000  macOS  1.34kg  47895.5232  \n",
       "2         Intel HD Graphics 620  No OS  1.86kg  30636.0000  "
      ]
     },
     "execution_count": 9,
     "metadata": {},
     "output_type": "execute_result"
    }
   ],
   "source": [
    "df.drop(columns=[\"Unnamed: 0.1\", \"Unnamed: 0\"],axis=1,inplace=True)\n",
    "df.head(3)"
   ]
  },
  {
   "cell_type": "code",
   "execution_count": 10,
   "id": "8f4fe25b",
   "metadata": {},
   "outputs": [],
   "source": [
    "df['Inches'] = df['Inches'].apply(lambda x: float(x) if len(re.findall(r'^[0-9]+.?[0-9]*$', x))!=0 else np.nan)"
   ]
  },
  {
   "cell_type": "code",
   "execution_count": 11,
   "id": "64f276e1",
   "metadata": {
    "scrolled": false
   },
   "outputs": [
    {
     "data": {
      "text/plain": [
       "Ram\n",
       "8GB     601\n",
       "4GB     367\n",
       "16GB    194\n",
       "6GB      40\n",
       "12GB     25\n",
       "2GB      22\n",
       "32GB     17\n",
       "64GB      3\n",
       "24GB      3\n",
       "1GB       1\n",
       "Name: count, dtype: int64"
      ]
     },
     "execution_count": 11,
     "metadata": {},
     "output_type": "execute_result"
    }
   ],
   "source": [
    "df[\"Ram\"].value_counts()"
   ]
  },
  {
   "cell_type": "code",
   "execution_count": 12,
   "id": "00bac634",
   "metadata": {},
   "outputs": [],
   "source": [
    "df[\"Ram\"] = df[\"Ram\"].apply(lambda x: int(x[:-2]))"
   ]
  },
  {
   "cell_type": "code",
   "execution_count": 13,
   "id": "1c52aeb2",
   "metadata": {},
   "outputs": [],
   "source": [
    "df.rename(columns={\"Weight\":\"Weight_Kg\"}, inplace=True)"
   ]
  },
  {
   "cell_type": "code",
   "execution_count": 14,
   "id": "a55098bc",
   "metadata": {},
   "outputs": [],
   "source": [
    "df['Weight_Kg'] = df['Weight_Kg'].apply(lambda x: float(x[:-2]) if len(re.findall(r'^[0-9]+.?[0-9]*[k|K][g|G]$', x))!=0 else np.nan)"
   ]
  },
  {
   "cell_type": "code",
   "execution_count": 15,
   "id": "621d6f50",
   "metadata": {},
   "outputs": [
    {
     "data": {
      "text/plain": [
       "Memory\n",
       "32GB Flash Storage               37\n",
       "64GB Flash Storage               14\n",
       "256GB Flash Storage               8\n",
       "16GB Flash Storage                7\n",
       "128GB Flash Storage               4\n",
       "512GB Flash Storage               2\n",
       "64GB Flash Storage +  1TB HDD     1\n",
       "Name: count, dtype: int64"
      ]
     },
     "execution_count": 15,
     "metadata": {},
     "output_type": "execute_result"
    }
   ],
   "source": [
    "df[df[\"Memory\"].apply(lambda x: True if x.find('Flash')!=-1 else False)][\"Memory\"].value_counts()"
   ]
  },
  {
   "cell_type": "code",
   "execution_count": 16,
   "id": "6bba1e2c",
   "metadata": {},
   "outputs": [
    {
     "data": {
      "text/html": [
       "<div>\n",
       "<style scoped>\n",
       "    .dataframe tbody tr th:only-of-type {\n",
       "        vertical-align: middle;\n",
       "    }\n",
       "\n",
       "    .dataframe tbody tr th {\n",
       "        vertical-align: top;\n",
       "    }\n",
       "\n",
       "    .dataframe thead th {\n",
       "        text-align: right;\n",
       "    }\n",
       "</style>\n",
       "<table border=\"1\" class=\"dataframe\">\n",
       "  <thead>\n",
       "    <tr style=\"text-align: right;\">\n",
       "      <th></th>\n",
       "      <th>Company</th>\n",
       "      <th>TypeName</th>\n",
       "      <th>Inches</th>\n",
       "      <th>ScreenResolution</th>\n",
       "      <th>Cpu</th>\n",
       "      <th>Ram</th>\n",
       "      <th>Memory</th>\n",
       "      <th>Gpu</th>\n",
       "      <th>OpSys</th>\n",
       "      <th>Weight_Kg</th>\n",
       "      <th>Price</th>\n",
       "    </tr>\n",
       "  </thead>\n",
       "  <tbody>\n",
       "    <tr>\n",
       "      <th>0</th>\n",
       "      <td>Apple</td>\n",
       "      <td>Ultrabook</td>\n",
       "      <td>13.3</td>\n",
       "      <td>IPS Panel Retina Display 2560x1600</td>\n",
       "      <td>Intel Core i5 2.3GHz</td>\n",
       "      <td>8</td>\n",
       "      <td>128GB SSD</td>\n",
       "      <td>Intel Iris Plus Graphics 640</td>\n",
       "      <td>macOS</td>\n",
       "      <td>1.37</td>\n",
       "      <td>71378.6832</td>\n",
       "    </tr>\n",
       "    <tr>\n",
       "      <th>1</th>\n",
       "      <td>Apple</td>\n",
       "      <td>Ultrabook</td>\n",
       "      <td>13.3</td>\n",
       "      <td>1440x900</td>\n",
       "      <td>Intel Core i5 1.8GHz</td>\n",
       "      <td>8</td>\n",
       "      <td>128GB Flash Storage</td>\n",
       "      <td>Intel HD Graphics 6000</td>\n",
       "      <td>macOS</td>\n",
       "      <td>1.34</td>\n",
       "      <td>47895.5232</td>\n",
       "    </tr>\n",
       "    <tr>\n",
       "      <th>2</th>\n",
       "      <td>HP</td>\n",
       "      <td>Notebook</td>\n",
       "      <td>15.6</td>\n",
       "      <td>Full HD 1920x1080</td>\n",
       "      <td>Intel Core i5 7200U 2.5GHz</td>\n",
       "      <td>8</td>\n",
       "      <td>256GB SSD</td>\n",
       "      <td>Intel HD Graphics 620</td>\n",
       "      <td>No OS</td>\n",
       "      <td>1.86</td>\n",
       "      <td>30636.0000</td>\n",
       "    </tr>\n",
       "  </tbody>\n",
       "</table>\n",
       "</div>"
      ],
      "text/plain": [
       "  Company   TypeName  Inches                    ScreenResolution  \\\n",
       "0   Apple  Ultrabook    13.3  IPS Panel Retina Display 2560x1600   \n",
       "1   Apple  Ultrabook    13.3                            1440x900   \n",
       "2      HP   Notebook    15.6                   Full HD 1920x1080   \n",
       "\n",
       "                          Cpu  Ram               Memory  \\\n",
       "0        Intel Core i5 2.3GHz    8            128GB SSD   \n",
       "1        Intel Core i5 1.8GHz    8  128GB Flash Storage   \n",
       "2  Intel Core i5 7200U 2.5GHz    8            256GB SSD   \n",
       "\n",
       "                            Gpu  OpSys  Weight_Kg       Price  \n",
       "0  Intel Iris Plus Graphics 640  macOS       1.37  71378.6832  \n",
       "1        Intel HD Graphics 6000  macOS       1.34  47895.5232  \n",
       "2         Intel HD Graphics 620  No OS       1.86  30636.0000  "
      ]
     },
     "execution_count": 16,
     "metadata": {},
     "output_type": "execute_result"
    }
   ],
   "source": [
    "df.head(3)"
   ]
  },
  {
   "cell_type": "code",
   "execution_count": 17,
   "id": "15b25814",
   "metadata": {},
   "outputs": [
    {
     "data": {
      "text/plain": [
       "Memory\n",
       "256GB SSD                        401\n",
       "1TB HDD                          217\n",
       "500GB HDD                        130\n",
       "512GB SSD                        116\n",
       "128GB SSD +  1TB HDD              92\n",
       "128GB SSD                         74\n",
       "256GB SSD +  1TB HDD              71\n",
       "32GB Flash Storage                37\n",
       "2TB HDD                           16\n",
       "64GB Flash Storage                14\n",
       "512GB SSD +  1TB HDD              14\n",
       "1TB SSD                           13\n",
       "256GB SSD +  2TB HDD              10\n",
       "1.0TB Hybrid                       9\n",
       "256GB Flash Storage                8\n",
       "16GB Flash Storage                 7\n",
       "32GB SSD                           6\n",
       "180GB SSD                          4\n",
       "128GB Flash Storage                4\n",
       "512GB SSD +  2TB HDD               3\n",
       "16GB SSD                           3\n",
       "512GB Flash Storage                2\n",
       "1TB SSD +  1TB HDD                 2\n",
       "128GB SSD +  2TB HDD               2\n",
       "256GB SSD +  500GB HDD             2\n",
       "256GB SSD +  256GB SSD             2\n",
       "512GB SSD +  256GB SSD             1\n",
       "512GB SSD +  512GB SSD             1\n",
       "64GB Flash Storage +  1TB HDD      1\n",
       "1TB HDD +  1TB HDD                 1\n",
       "32GB HDD                           1\n",
       "64GB SSD                           1\n",
       "?                                  1\n",
       "128GB HDD                          1\n",
       "240GB SSD                          1\n",
       "8GB SSD                            1\n",
       "508GB Hybrid                       1\n",
       "1.0TB HDD                          1\n",
       "512GB SSD +  1.0TB Hybrid          1\n",
       "256GB SSD +  1.0TB Hybrid          1\n",
       "Name: count, dtype: int64"
      ]
     },
     "execution_count": 17,
     "metadata": {},
     "output_type": "execute_result"
    }
   ],
   "source": [
    "M_df = df['Memory'].value_counts()\n",
    "M_df"
   ]
  },
  {
   "cell_type": "code",
   "execution_count": 18,
   "id": "4f31c0e4",
   "metadata": {
    "scrolled": false
   },
   "outputs": [
    {
     "data": {
      "text/plain": [
       "['HDD', '?', 'Hybrid', 'SSD', 'Flash Storage']"
      ]
     },
     "execution_count": 18,
     "metadata": {},
     "output_type": "execute_result"
    }
   ],
   "source": [
    "tmp=set()\n",
    "[[tmp.add(x) for x in [s.strip() for s in i.split('+')]] for i in M_df.index]\n",
    "tmp = list(tmp)\n",
    "tmp = [(l1.split(\" \",1)[1] if len(l1)>1 else l1.split(\" \",1)[0]) for l1 in tmp]\n",
    "tmp = list(set(tmp))\n",
    "tmp"
   ]
  },
  {
   "cell_type": "code",
   "execution_count": 19,
   "id": "0eefeeb6",
   "metadata": {},
   "outputs": [],
   "source": [
    "def ext_mem(mem_str, search_for):\n",
    "    l = mem_str.split('+')\n",
    "    v = 0\n",
    "    for i in l:\n",
    "        l1 = i.strip().split(\" \",1)\n",
    "        if len(l1) == 2 and l1[1].strip().lower()==search_for:\n",
    "            s = l1[0].strip()[-2:].lower()\n",
    "#             considering only for GB or TB\n",
    "            if s=='gb':\n",
    "                v += int(float(l1[0].strip()[:-2]))\n",
    "            else:\n",
    "                v += int(float(l1[0].strip()[:-2])*1000)\n",
    "    return v"
   ]
  },
  {
   "cell_type": "code",
   "execution_count": 20,
   "id": "18abe7b3",
   "metadata": {},
   "outputs": [],
   "source": [
    "df['SSD'] = df['Memory'].map(lambda x: ext_mem(x,search_for='ssd'))\n",
    "df['HDD'] = df['Memory'].map(lambda x: ext_mem(x,search_for='hdd'))\n",
    "df['Hybrid'] = df['Memory'].map(lambda x: ext_mem(x,search_for='hybrid'))\n",
    "df['Flash_Storage'] = df['Memory'].map(lambda x: ext_mem(x,search_for='flash storage'))"
   ]
  },
  {
   "cell_type": "code",
   "execution_count": 21,
   "id": "60b98af9",
   "metadata": {
    "scrolled": true
   },
   "outputs": [
    {
     "data": {
      "text/html": [
       "<div>\n",
       "<style scoped>\n",
       "    .dataframe tbody tr th:only-of-type {\n",
       "        vertical-align: middle;\n",
       "    }\n",
       "\n",
       "    .dataframe tbody tr th {\n",
       "        vertical-align: top;\n",
       "    }\n",
       "\n",
       "    .dataframe thead th {\n",
       "        text-align: right;\n",
       "    }\n",
       "</style>\n",
       "<table border=\"1\" class=\"dataframe\">\n",
       "  <thead>\n",
       "    <tr style=\"text-align: right;\">\n",
       "      <th></th>\n",
       "      <th>Memory</th>\n",
       "      <th>SSD</th>\n",
       "      <th>HDD</th>\n",
       "      <th>Hybrid</th>\n",
       "      <th>Flash_Storage</th>\n",
       "    </tr>\n",
       "  </thead>\n",
       "  <tbody>\n",
       "    <tr>\n",
       "      <th>0</th>\n",
       "      <td>128GB SSD</td>\n",
       "      <td>128</td>\n",
       "      <td>0</td>\n",
       "      <td>0</td>\n",
       "      <td>0</td>\n",
       "    </tr>\n",
       "    <tr>\n",
       "      <th>1</th>\n",
       "      <td>128GB Flash Storage</td>\n",
       "      <td>0</td>\n",
       "      <td>0</td>\n",
       "      <td>0</td>\n",
       "      <td>128</td>\n",
       "    </tr>\n",
       "    <tr>\n",
       "      <th>2</th>\n",
       "      <td>256GB SSD</td>\n",
       "      <td>256</td>\n",
       "      <td>0</td>\n",
       "      <td>0</td>\n",
       "      <td>0</td>\n",
       "    </tr>\n",
       "    <tr>\n",
       "      <th>3</th>\n",
       "      <td>512GB SSD</td>\n",
       "      <td>512</td>\n",
       "      <td>0</td>\n",
       "      <td>0</td>\n",
       "      <td>0</td>\n",
       "    </tr>\n",
       "    <tr>\n",
       "      <th>4</th>\n",
       "      <td>256GB SSD</td>\n",
       "      <td>256</td>\n",
       "      <td>0</td>\n",
       "      <td>0</td>\n",
       "      <td>0</td>\n",
       "    </tr>\n",
       "  </tbody>\n",
       "</table>\n",
       "</div>"
      ],
      "text/plain": [
       "                Memory  SSD  HDD  Hybrid  Flash_Storage\n",
       "0            128GB SSD  128    0       0              0\n",
       "1  128GB Flash Storage    0    0       0            128\n",
       "2            256GB SSD  256    0       0              0\n",
       "3            512GB SSD  512    0       0              0\n",
       "4            256GB SSD  256    0       0              0"
      ]
     },
     "execution_count": 21,
     "metadata": {},
     "output_type": "execute_result"
    }
   ],
   "source": [
    "df[['Memory','SSD','HDD','Hybrid','Flash_Storage']].head(5)\n",
    "# df.drop(columns=['SSD', 'HDD', 'Hybrid', 'Flash_Storage'], inplace=True)"
   ]
  },
  {
   "cell_type": "code",
   "execution_count": 22,
   "id": "179e17c0",
   "metadata": {},
   "outputs": [
    {
     "data": {
      "text/plain": [
       "ScreenResolution\n",
       "Full HD 1920x1080                                495\n",
       "1366x768                                         274\n",
       "IPS Panel Full HD 1920x1080                      226\n",
       "IPS Panel Full HD / Touchscreen 1920x1080         52\n",
       "Full HD / Touchscreen 1920x1080                   45\n",
       "1600x900                                          23\n",
       "Touchscreen 1366x768                              16\n",
       "Quad HD+ / Touchscreen 3200x1800                  14\n",
       "IPS Panel 4K Ultra HD 3840x2160                   12\n",
       "IPS Panel 4K Ultra HD / Touchscreen 3840x2160     11\n",
       "4K Ultra HD / Touchscreen 3840x2160                9\n",
       "4K Ultra HD 3840x2160                              7\n",
       "IPS Panel 1366x768                                 7\n",
       "IPS Panel Retina Display 2560x1600                 6\n",
       "IPS Panel Quad HD+ / Touchscreen 3200x1800         6\n",
       "Touchscreen 2560x1440                              6\n",
       "IPS Panel Retina Display 2304x1440                 6\n",
       "Touchscreen 2256x1504                              6\n",
       "IPS Panel Touchscreen 2560x1440                    5\n",
       "1440x900                                           4\n",
       "IPS Panel 2560x1440                                4\n",
       "IPS Panel Retina Display 2880x1800                 4\n",
       "1920x1080                                          3\n",
       "IPS Panel Touchscreen 1920x1200                    3\n",
       "Quad HD+ 3200x1800                                 3\n",
       "Touchscreen 2400x1600                              3\n",
       "2560x1440                                          3\n",
       "IPS Panel Quad HD+ 2560x1440                       3\n",
       "IPS Panel Touchscreen 1366x768                     3\n",
       "IPS Panel Full HD 2160x1440                        2\n",
       "IPS Panel Touchscreen / 4K Ultra HD 3840x2160      2\n",
       "IPS Panel Quad HD+ 3200x1800                       2\n",
       "IPS Panel Full HD 1920x1200                        1\n",
       "IPS Panel Retina Display 2736x1824                 1\n",
       "IPS Panel Full HD 2560x1440                        1\n",
       "Touchscreen / Full HD 1920x1080                    1\n",
       "IPS Panel Full HD 1366x768                         1\n",
       "Touchscreen / Quad HD+ 3200x1800                   1\n",
       "Touchscreen / 4K Ultra HD 3840x2160                1\n",
       "IPS Panel Touchscreen 2400x1600                    1\n",
       "Name: count, dtype: int64"
      ]
     },
     "execution_count": 22,
     "metadata": {},
     "output_type": "execute_result"
    }
   ],
   "source": [
    "df['ScreenResolution'].value_counts()"
   ]
  },
  {
   "cell_type": "code",
   "execution_count": 23,
   "id": "1da555fb",
   "metadata": {},
   "outputs": [],
   "source": [
    "def ext_resolution(spec_str):\n",
    "    if spec_str is not np.nan and spec_str is not None and len(spec_str)!=0:\n",
    "        l = re.findall(r'[0-9]+[xX][0-9]+',spec_str)\n",
    "        if len(l)>0:\n",
    "            return l[0].lower()\n",
    "        else:\n",
    "            return np.nan\n",
    "    else:\n",
    "        return np.nan\n",
    "\n",
    "def is_touchscreen(spec_str):\n",
    "    if spec_str is not np.nan and spec_str is not None and len(spec_str)!=0:\n",
    "        l = re.findall(r'touchscreen', spec_str.lower())\n",
    "        if len(l)>0:\n",
    "            return True\n",
    "        else:\n",
    "            return False\n",
    "    else:\n",
    "        return np.nan"
   ]
  },
  {
   "cell_type": "code",
   "execution_count": 24,
   "id": "0dc89fa0",
   "metadata": {},
   "outputs": [],
   "source": [
    "df['Resolution'] = df['ScreenResolution'].map(ext_resolution)\n",
    "df['Touchscreen'] = df['ScreenResolution'].map(is_touchscreen)"
   ]
  },
  {
   "cell_type": "code",
   "execution_count": 25,
   "id": "16ad03b1",
   "metadata": {
    "scrolled": false
   },
   "outputs": [
    {
     "data": {
      "text/html": [
       "<div>\n",
       "<style scoped>\n",
       "    .dataframe tbody tr th:only-of-type {\n",
       "        vertical-align: middle;\n",
       "    }\n",
       "\n",
       "    .dataframe tbody tr th {\n",
       "        vertical-align: top;\n",
       "    }\n",
       "\n",
       "    .dataframe thead th {\n",
       "        text-align: right;\n",
       "    }\n",
       "</style>\n",
       "<table border=\"1\" class=\"dataframe\">\n",
       "  <thead>\n",
       "    <tr style=\"text-align: right;\">\n",
       "      <th></th>\n",
       "      <th>ScreenResolution</th>\n",
       "      <th>Resolution</th>\n",
       "      <th>Touchscreen</th>\n",
       "    </tr>\n",
       "  </thead>\n",
       "  <tbody>\n",
       "    <tr>\n",
       "      <th>1298</th>\n",
       "      <td>IPS Panel Full HD / Touchscreen 1920x1080</td>\n",
       "      <td>1920x1080</td>\n",
       "      <td>True</td>\n",
       "    </tr>\n",
       "    <tr>\n",
       "      <th>1299</th>\n",
       "      <td>IPS Panel Quad HD+ / Touchscreen 3200x1800</td>\n",
       "      <td>3200x1800</td>\n",
       "      <td>True</td>\n",
       "    </tr>\n",
       "    <tr>\n",
       "      <th>1300</th>\n",
       "      <td>1366x768</td>\n",
       "      <td>1366x768</td>\n",
       "      <td>False</td>\n",
       "    </tr>\n",
       "    <tr>\n",
       "      <th>1301</th>\n",
       "      <td>1366x768</td>\n",
       "      <td>1366x768</td>\n",
       "      <td>False</td>\n",
       "    </tr>\n",
       "    <tr>\n",
       "      <th>1302</th>\n",
       "      <td>1366x768</td>\n",
       "      <td>1366x768</td>\n",
       "      <td>False</td>\n",
       "    </tr>\n",
       "  </tbody>\n",
       "</table>\n",
       "</div>"
      ],
      "text/plain": [
       "                                ScreenResolution Resolution  Touchscreen\n",
       "1298   IPS Panel Full HD / Touchscreen 1920x1080  1920x1080         True\n",
       "1299  IPS Panel Quad HD+ / Touchscreen 3200x1800  3200x1800         True\n",
       "1300                                    1366x768   1366x768        False\n",
       "1301                                    1366x768   1366x768        False\n",
       "1302                                    1366x768   1366x768        False"
      ]
     },
     "execution_count": 25,
     "metadata": {},
     "output_type": "execute_result"
    }
   ],
   "source": [
    "df[['ScreenResolution','Resolution','Touchscreen']].tail()"
   ]
  },
  {
   "cell_type": "markdown",
   "id": "c64b2065",
   "metadata": {},
   "source": [
    "### Pre-Processing 'Cpu' Feature"
   ]
  },
  {
   "cell_type": "code",
   "execution_count": 26,
   "id": "5e2d1cb7",
   "metadata": {
    "scrolled": true
   },
   "outputs": [
    {
     "name": "stdout",
     "output_type": "stream",
     "text": [
      "Distinct Values: 118\n"
     ]
    }
   ],
   "source": [
    "l = df['Cpu'].value_counts().index.to_list()\n",
    "print(f\"Distinct Values: {len(l)}\")"
   ]
  },
  {
   "cell_type": "code",
   "execution_count": 27,
   "id": "04db4ea9",
   "metadata": {},
   "outputs": [
    {
     "name": "stdout",
     "output_type": "stream",
     "text": [
      "Various Brands: {'Samsung', 'Intel', 'AMD'}\n"
     ]
    }
   ],
   "source": [
    "s = set([s.split(\" \",1)[0] for s in l])\n",
    "print(f\"Various Brands: {s}\")"
   ]
  },
  {
   "cell_type": "code",
   "execution_count": 28,
   "id": "b2adaa16",
   "metadata": {},
   "outputs": [],
   "source": [
    "# brandwise seperation\n",
    "def sep_brand(brand, lst):\n",
    "    for i in l:\n",
    "        if i is not np.nan and i is not None:\n",
    "            l1 = re.findall(f'{brand}', i.lower())\n",
    "            if len(l1)!=0:\n",
    "                lst.append(i)"
   ]
  },
  {
   "cell_type": "code",
   "execution_count": 29,
   "id": "7d35a966",
   "metadata": {},
   "outputs": [],
   "source": [
    "intel_lst=[]\n",
    "amd_lst=[]\n",
    "samsg_lst=[]\n",
    "sep_brand('intel',intel_lst)\n",
    "sep_brand('amd',amd_lst)\n",
    "sep_brand('samsung',samsg_lst)"
   ]
  },
  {
   "cell_type": "code",
   "execution_count": 30,
   "id": "c6efd771",
   "metadata": {},
   "outputs": [
    {
     "data": {
      "text/plain": [
       "True"
      ]
     },
     "execution_count": 30,
     "metadata": {},
     "output_type": "execute_result"
    }
   ],
   "source": [
    "# check if records are equal to total count\n",
    "len(intel_lst) + len(amd_lst) + len(samsg_lst) == 118"
   ]
  },
  {
   "cell_type": "code",
   "execution_count": 31,
   "id": "aeb6bbd5",
   "metadata": {},
   "outputs": [
    {
     "data": {
      "text/plain": [
       "['Samsung Cortex A72&A53 2.0GHz']"
      ]
     },
     "execution_count": 31,
     "metadata": {},
     "output_type": "execute_result"
    }
   ],
   "source": [
    "samsg_lst"
   ]
  },
  {
   "cell_type": "code",
   "execution_count": 32,
   "id": "b5724101",
   "metadata": {},
   "outputs": [
    {
     "data": {
      "text/plain": [
       "{'cortex a72&a53'}"
      ]
     },
     "execution_count": 32,
     "metadata": {},
     "output_type": "execute_result"
    }
   ],
   "source": [
    "# seperating processor\n",
    "c=[]\n",
    "for i in samsg_lst:\n",
    "    s = i.lower().split(\"samsung\",1)[1]\n",
    "    c.append(re.split(r'[0-9]*\\.?[0-9]+ghz',s,1)[0].strip())\n",
    "\n",
    "set(c)"
   ]
  },
  {
   "cell_type": "markdown",
   "id": "80d35cae",
   "metadata": {},
   "source": [
    "##### CPU Spec Dictionary"
   ]
  },
  {
   "cell_type": "code",
   "execution_count": 33,
   "id": "52d989a3",
   "metadata": {},
   "outputs": [],
   "source": [
    "cpu_dict={}\n",
    "cpu_dict[\"intel\"] = {\"atom\":\"Atom\", \"celeron dual core\":\"Celeron Dual Core\",\"celeron quad core\":\"Celeron Quad Core\", \"core i3\":\"Core i3\", \"core i5\":\"Core i5\", \"core i7\":\"Core i7\", \"core m\":\"Core M\", \"pentium dual core\":\"Pentium Dual Core\", \"pentium quad core\":\"Pentium Quad Core\", \"xeon\":\"Xeon\"}\n",
    "cpu_dict[\"amd\"] = {r'a[0-9]*-series':\"A-Series\", r'e[0-9]*-series':\"E-Series\", \"fx\":\"FX\", \"ryzen\":\"Ryzen\"}\n",
    "cpu_dict[\"samsung\"] = {\"cortex\":\"Cortex\"}"
   ]
  },
  {
   "cell_type": "code",
   "execution_count": 34,
   "id": "9f1e742b",
   "metadata": {},
   "outputs": [
    {
     "data": {
      "text/plain": [
       "'a[0-9]*-series'"
      ]
     },
     "execution_count": 34,
     "metadata": {},
     "output_type": "execute_result"
    }
   ],
   "source": [
    "p = list(cpu_dict['amd'].keys())[0]\n",
    "p"
   ]
  },
  {
   "cell_type": "code",
   "execution_count": 35,
   "id": "a7a22f27",
   "metadata": {},
   "outputs": [
    {
     "data": {
      "text/plain": [
       "'A-Series'"
      ]
     },
     "execution_count": 35,
     "metadata": {},
     "output_type": "execute_result"
    }
   ],
   "source": [
    "k = re.findall(p, 'a6-series a6-9220')[0]\n",
    "cpu_dict['amd'][p]"
   ]
  },
  {
   "cell_type": "code",
   "execution_count": 36,
   "id": "18b14064",
   "metadata": {},
   "outputs": [],
   "source": [
    "def cpu_brand(cpu_str:str, cpu_dict:dict):\n",
    "    s = re.split(\" \",cpu_str.strip(),1)[0] if cpu_str is not None and len(cpu_str)!=0 else np.nan\n",
    "    if s is not np.nan:\n",
    "        for k in list(cpu_dict.keys()):\n",
    "            l = re.findall(k, cpu_str.lower())\n",
    "            if len(l)!=0 and l[0]==s.lower():\n",
    "                return s\n",
    "    return np.nan"
   ]
  },
  {
   "cell_type": "code",
   "execution_count": 37,
   "id": "256277c8",
   "metadata": {},
   "outputs": [],
   "source": [
    "def cpu_proc(cpu_str:str, cpu_dict:dict):\n",
    "    s = re.split(\" \",cpu_str.strip(),1)[0] if cpu_str is not None and len(cpu_str)!=0 else np.nan\n",
    "    if s is not np.nan:\n",
    "        d = cpu_dict[s.lower()]\n",
    "        for k in list(d.keys()):\n",
    "            l = re.findall(k, cpu_str.lower())\n",
    "            if len(l)!=0:\n",
    "                return d[k]\n",
    "    else:\n",
    "        return np.nan"
   ]
  },
  {
   "cell_type": "code",
   "execution_count": 38,
   "id": "9e0d5e21",
   "metadata": {},
   "outputs": [],
   "source": [
    "def cpu_ghz(cpu_str:str):\n",
    "    s = re.split(\" \",cpu_str.strip(),1)[0] if cpu_str is not None and len(cpu_str)!=0 else np.nan\n",
    "    if s is not np.nan:\n",
    "        l = re.findall(r'[0-9]*\\.?[0-9]+ghz', cpu_str.lower())\n",
    "        v = float(l[0][:-3]) if len(l)!=0 else np.nan\n",
    "        return v\n",
    "    else:\n",
    "        return np.nan"
   ]
  },
  {
   "cell_type": "code",
   "execution_count": 39,
   "id": "7c038259",
   "metadata": {
    "scrolled": true
   },
   "outputs": [],
   "source": [
    "df['Cpu_Brand'] = df['Cpu'].map(lambda x: cpu_brand(x, cpu_dict))\n",
    "df['Cpu_Proc'] = df['Cpu'].map(lambda x: cpu_proc(x, cpu_dict))\n",
    "df['Cpu_GHz'] = df['Cpu'].map(lambda x: cpu_ghz(x))"
   ]
  },
  {
   "cell_type": "code",
   "execution_count": 40,
   "id": "9d40d0c3",
   "metadata": {
    "scrolled": true
   },
   "outputs": [
    {
     "data": {
      "text/html": [
       "<div>\n",
       "<style scoped>\n",
       "    .dataframe tbody tr th:only-of-type {\n",
       "        vertical-align: middle;\n",
       "    }\n",
       "\n",
       "    .dataframe tbody tr th {\n",
       "        vertical-align: top;\n",
       "    }\n",
       "\n",
       "    .dataframe thead th {\n",
       "        text-align: right;\n",
       "    }\n",
       "</style>\n",
       "<table border=\"1\" class=\"dataframe\">\n",
       "  <thead>\n",
       "    <tr style=\"text-align: right;\">\n",
       "      <th></th>\n",
       "      <th>Cpu</th>\n",
       "      <th>Cpu_Brand</th>\n",
       "      <th>Cpu_Proc</th>\n",
       "      <th>Cpu_GHz</th>\n",
       "    </tr>\n",
       "  </thead>\n",
       "  <tbody>\n",
       "    <tr>\n",
       "      <th>1298</th>\n",
       "      <td>Intel Core i7 6500U 2.5GHz</td>\n",
       "      <td>Intel</td>\n",
       "      <td>Core i7</td>\n",
       "      <td>2.5</td>\n",
       "    </tr>\n",
       "    <tr>\n",
       "      <th>1299</th>\n",
       "      <td>Intel Core i7 6500U 2.5GHz</td>\n",
       "      <td>Intel</td>\n",
       "      <td>Core i7</td>\n",
       "      <td>2.5</td>\n",
       "    </tr>\n",
       "    <tr>\n",
       "      <th>1300</th>\n",
       "      <td>Intel Celeron Dual Core N3050 1.6GHz</td>\n",
       "      <td>Intel</td>\n",
       "      <td>Celeron Dual Core</td>\n",
       "      <td>1.6</td>\n",
       "    </tr>\n",
       "    <tr>\n",
       "      <th>1301</th>\n",
       "      <td>Intel Core i7 6500U 2.5GHz</td>\n",
       "      <td>Intel</td>\n",
       "      <td>Core i7</td>\n",
       "      <td>2.5</td>\n",
       "    </tr>\n",
       "    <tr>\n",
       "      <th>1302</th>\n",
       "      <td>Intel Celeron Dual Core N3050 1.6GHz</td>\n",
       "      <td>Intel</td>\n",
       "      <td>Celeron Dual Core</td>\n",
       "      <td>1.6</td>\n",
       "    </tr>\n",
       "  </tbody>\n",
       "</table>\n",
       "</div>"
      ],
      "text/plain": [
       "                                       Cpu Cpu_Brand           Cpu_Proc  \\\n",
       "1298            Intel Core i7 6500U 2.5GHz     Intel            Core i7   \n",
       "1299            Intel Core i7 6500U 2.5GHz     Intel            Core i7   \n",
       "1300  Intel Celeron Dual Core N3050 1.6GHz     Intel  Celeron Dual Core   \n",
       "1301            Intel Core i7 6500U 2.5GHz     Intel            Core i7   \n",
       "1302  Intel Celeron Dual Core N3050 1.6GHz     Intel  Celeron Dual Core   \n",
       "\n",
       "      Cpu_GHz  \n",
       "1298      2.5  \n",
       "1299      2.5  \n",
       "1300      1.6  \n",
       "1301      2.5  \n",
       "1302      1.6  "
      ]
     },
     "execution_count": 40,
     "metadata": {},
     "output_type": "execute_result"
    }
   ],
   "source": [
    "df[['Cpu','Cpu_Brand','Cpu_Proc','Cpu_GHz']].tail()"
   ]
  },
  {
   "cell_type": "markdown",
   "id": "b5efed27",
   "metadata": {},
   "source": [
    "### Pre-Processing 'Gpu' Feature"
   ]
  },
  {
   "cell_type": "code",
   "execution_count": 41,
   "id": "a5134163",
   "metadata": {},
   "outputs": [
    {
     "name": "stdout",
     "output_type": "stream",
     "text": [
      "Distinct values: 110\n"
     ]
    },
    {
     "data": {
      "text/plain": [
       "['Intel HD Graphics 620', 'Intel HD Graphics 520', 'Intel UHD Graphics 620']"
      ]
     },
     "execution_count": 41,
     "metadata": {},
     "output_type": "execute_result"
    }
   ],
   "source": [
    "l = df['Gpu'].value_counts().index.to_list()\n",
    "print(f\"Distinct values: {len(l)}\")\n",
    "l[:3]"
   ]
  },
  {
   "cell_type": "code",
   "execution_count": 42,
   "id": "8c59f82d",
   "metadata": {
    "scrolled": true
   },
   "outputs": [
    {
     "data": {
      "text/plain": [
       "{'amd firepro',\n",
       " 'amd r17m-m1-70',\n",
       " 'amd r4',\n",
       " 'amd radeon',\n",
       " 'arm mali',\n",
       " 'intel graphics',\n",
       " 'intel hd',\n",
       " 'intel iris',\n",
       " 'intel uhd',\n",
       " 'nvidia geforce',\n",
       " 'nvidia gtx',\n",
       " 'nvidia quadro'}"
      ]
     },
     "execution_count": 42,
     "metadata": {},
     "output_type": "execute_result"
    }
   ],
   "source": [
    "t=[]\n",
    "for s in l:\n",
    "    l1 = re.findall(r'[a-z]+\\s[a-z0-9-]+', s.strip().lower())\n",
    "    if len(l1)!=0:\n",
    "        t.append(l1[0])\n",
    "    else:\n",
    "        t.append(np.nan)\n",
    "set(t)"
   ]
  },
  {
   "cell_type": "code",
   "execution_count": 43,
   "id": "1b65eac4",
   "metadata": {},
   "outputs": [],
   "source": [
    "gpu_dict = {\"amd firepro\":\"AMD Firepro\", \"amd r17m-m1-70\":\"AMD R17M-M1-70\", \"amd r4\":\"AMD R4\", \"amd radeon\":\"AMD Radeon\", \"arm mali\":\"ARM Mali\", \"intel graphics\":\"Intel Graphics\", \"intel hd\":\"Intel HD\", \"intel iris\":\"Intel Iris\", \"intel uhd\":\"Intel UHD\", \"nvidia geforce\":\"Nvidia GeForce\", \"nvidia gtx\":\"Nvidia GTX\", \"nvidia quadro\":\"Nvidia Quadro\"}"
   ]
  },
  {
   "cell_type": "code",
   "execution_count": 44,
   "id": "3adbdad8",
   "metadata": {},
   "outputs": [],
   "source": [
    "def gpu_type(gpu_str:str):\n",
    "    s = re.findall(r'[a-z]+\\s[a-z0-9-]+', gpu_str.strip().lower()) if gpu_str is not None and len(gpu_str)!=0 else np.nan\n",
    "    if s is not np.nan and len(s)!=0:\n",
    "        if s[0] in list(gpu_dict.keys()):\n",
    "            return gpu_dict[s[0]]\n",
    "        else:\n",
    "            return np.nan\n",
    "    else:\n",
    "        return np.nan"
   ]
  },
  {
   "cell_type": "code",
   "execution_count": 45,
   "id": "e7ef40b2",
   "metadata": {
    "scrolled": true
   },
   "outputs": [
    {
     "data": {
      "text/plain": [
       "0"
      ]
     },
     "execution_count": 45,
     "metadata": {},
     "output_type": "execute_result"
    }
   ],
   "source": [
    "df['Gpu'].map(lambda x: gpu_type(x)).isnull().sum()"
   ]
  },
  {
   "cell_type": "code",
   "execution_count": 46,
   "id": "3eadd0c4",
   "metadata": {},
   "outputs": [],
   "source": [
    "df['Gpu_Type'] = df['Gpu'].map(lambda x: gpu_type(x))"
   ]
  },
  {
   "cell_type": "code",
   "execution_count": 47,
   "id": "a0315624",
   "metadata": {
    "scrolled": true
   },
   "outputs": [
    {
     "data": {
      "text/html": [
       "<div>\n",
       "<style scoped>\n",
       "    .dataframe tbody tr th:only-of-type {\n",
       "        vertical-align: middle;\n",
       "    }\n",
       "\n",
       "    .dataframe tbody tr th {\n",
       "        vertical-align: top;\n",
       "    }\n",
       "\n",
       "    .dataframe thead th {\n",
       "        text-align: right;\n",
       "    }\n",
       "</style>\n",
       "<table border=\"1\" class=\"dataframe\">\n",
       "  <thead>\n",
       "    <tr style=\"text-align: right;\">\n",
       "      <th></th>\n",
       "      <th>Gpu</th>\n",
       "      <th>Gpu_Type</th>\n",
       "    </tr>\n",
       "  </thead>\n",
       "  <tbody>\n",
       "    <tr>\n",
       "      <th>1298</th>\n",
       "      <td>Intel HD Graphics 520</td>\n",
       "      <td>Intel HD</td>\n",
       "    </tr>\n",
       "    <tr>\n",
       "      <th>1299</th>\n",
       "      <td>Intel HD Graphics 520</td>\n",
       "      <td>Intel HD</td>\n",
       "    </tr>\n",
       "    <tr>\n",
       "      <th>1300</th>\n",
       "      <td>Intel HD Graphics</td>\n",
       "      <td>Intel HD</td>\n",
       "    </tr>\n",
       "    <tr>\n",
       "      <th>1301</th>\n",
       "      <td>AMD Radeon R5 M330</td>\n",
       "      <td>AMD Radeon</td>\n",
       "    </tr>\n",
       "    <tr>\n",
       "      <th>1302</th>\n",
       "      <td>Intel HD Graphics</td>\n",
       "      <td>Intel HD</td>\n",
       "    </tr>\n",
       "  </tbody>\n",
       "</table>\n",
       "</div>"
      ],
      "text/plain": [
       "                        Gpu    Gpu_Type\n",
       "1298  Intel HD Graphics 520    Intel HD\n",
       "1299  Intel HD Graphics 520    Intel HD\n",
       "1300      Intel HD Graphics    Intel HD\n",
       "1301     AMD Radeon R5 M330  AMD Radeon\n",
       "1302      Intel HD Graphics    Intel HD"
      ]
     },
     "execution_count": 47,
     "metadata": {},
     "output_type": "execute_result"
    }
   ],
   "source": [
    "df[['Gpu','Gpu_Type']].tail()"
   ]
  },
  {
   "cell_type": "markdown",
   "id": "3a2bd827",
   "metadata": {},
   "source": [
    "### Removing Extra Columns and Pre-Processing"
   ]
  },
  {
   "cell_type": "code",
   "execution_count": 48,
   "id": "722c2ee5",
   "metadata": {},
   "outputs": [
    {
     "data": {
      "text/html": [
       "<div>\n",
       "<style scoped>\n",
       "    .dataframe tbody tr th:only-of-type {\n",
       "        vertical-align: middle;\n",
       "    }\n",
       "\n",
       "    .dataframe tbody tr th {\n",
       "        vertical-align: top;\n",
       "    }\n",
       "\n",
       "    .dataframe thead th {\n",
       "        text-align: right;\n",
       "    }\n",
       "</style>\n",
       "<table border=\"1\" class=\"dataframe\">\n",
       "  <thead>\n",
       "    <tr style=\"text-align: right;\">\n",
       "      <th></th>\n",
       "      <th>Company</th>\n",
       "      <th>TypeName</th>\n",
       "      <th>Inches</th>\n",
       "      <th>ScreenResolution</th>\n",
       "      <th>Cpu</th>\n",
       "      <th>Ram</th>\n",
       "      <th>Memory</th>\n",
       "      <th>Gpu</th>\n",
       "      <th>OpSys</th>\n",
       "      <th>Weight_Kg</th>\n",
       "      <th>...</th>\n",
       "      <th>SSD</th>\n",
       "      <th>HDD</th>\n",
       "      <th>Hybrid</th>\n",
       "      <th>Flash_Storage</th>\n",
       "      <th>Resolution</th>\n",
       "      <th>Touchscreen</th>\n",
       "      <th>Cpu_Brand</th>\n",
       "      <th>Cpu_Proc</th>\n",
       "      <th>Cpu_GHz</th>\n",
       "      <th>Gpu_Type</th>\n",
       "    </tr>\n",
       "  </thead>\n",
       "  <tbody>\n",
       "    <tr>\n",
       "      <th>0</th>\n",
       "      <td>Apple</td>\n",
       "      <td>Ultrabook</td>\n",
       "      <td>13.3</td>\n",
       "      <td>IPS Panel Retina Display 2560x1600</td>\n",
       "      <td>Intel Core i5 2.3GHz</td>\n",
       "      <td>8</td>\n",
       "      <td>128GB SSD</td>\n",
       "      <td>Intel Iris Plus Graphics 640</td>\n",
       "      <td>macOS</td>\n",
       "      <td>1.37</td>\n",
       "      <td>...</td>\n",
       "      <td>128</td>\n",
       "      <td>0</td>\n",
       "      <td>0</td>\n",
       "      <td>0</td>\n",
       "      <td>2560x1600</td>\n",
       "      <td>False</td>\n",
       "      <td>Intel</td>\n",
       "      <td>Core i5</td>\n",
       "      <td>2.3</td>\n",
       "      <td>Intel Iris</td>\n",
       "    </tr>\n",
       "    <tr>\n",
       "      <th>1</th>\n",
       "      <td>Apple</td>\n",
       "      <td>Ultrabook</td>\n",
       "      <td>13.3</td>\n",
       "      <td>1440x900</td>\n",
       "      <td>Intel Core i5 1.8GHz</td>\n",
       "      <td>8</td>\n",
       "      <td>128GB Flash Storage</td>\n",
       "      <td>Intel HD Graphics 6000</td>\n",
       "      <td>macOS</td>\n",
       "      <td>1.34</td>\n",
       "      <td>...</td>\n",
       "      <td>0</td>\n",
       "      <td>0</td>\n",
       "      <td>0</td>\n",
       "      <td>128</td>\n",
       "      <td>1440x900</td>\n",
       "      <td>False</td>\n",
       "      <td>Intel</td>\n",
       "      <td>Core i5</td>\n",
       "      <td>1.8</td>\n",
       "      <td>Intel HD</td>\n",
       "    </tr>\n",
       "    <tr>\n",
       "      <th>2</th>\n",
       "      <td>HP</td>\n",
       "      <td>Notebook</td>\n",
       "      <td>15.6</td>\n",
       "      <td>Full HD 1920x1080</td>\n",
       "      <td>Intel Core i5 7200U 2.5GHz</td>\n",
       "      <td>8</td>\n",
       "      <td>256GB SSD</td>\n",
       "      <td>Intel HD Graphics 620</td>\n",
       "      <td>No OS</td>\n",
       "      <td>1.86</td>\n",
       "      <td>...</td>\n",
       "      <td>256</td>\n",
       "      <td>0</td>\n",
       "      <td>0</td>\n",
       "      <td>0</td>\n",
       "      <td>1920x1080</td>\n",
       "      <td>False</td>\n",
       "      <td>Intel</td>\n",
       "      <td>Core i5</td>\n",
       "      <td>2.5</td>\n",
       "      <td>Intel HD</td>\n",
       "    </tr>\n",
       "  </tbody>\n",
       "</table>\n",
       "<p>3 rows × 21 columns</p>\n",
       "</div>"
      ],
      "text/plain": [
       "  Company   TypeName  Inches                    ScreenResolution  \\\n",
       "0   Apple  Ultrabook    13.3  IPS Panel Retina Display 2560x1600   \n",
       "1   Apple  Ultrabook    13.3                            1440x900   \n",
       "2      HP   Notebook    15.6                   Full HD 1920x1080   \n",
       "\n",
       "                          Cpu  Ram               Memory  \\\n",
       "0        Intel Core i5 2.3GHz    8            128GB SSD   \n",
       "1        Intel Core i5 1.8GHz    8  128GB Flash Storage   \n",
       "2  Intel Core i5 7200U 2.5GHz    8            256GB SSD   \n",
       "\n",
       "                            Gpu  OpSys  Weight_Kg  ...  SSD  HDD  Hybrid  \\\n",
       "0  Intel Iris Plus Graphics 640  macOS       1.37  ...  128    0       0   \n",
       "1        Intel HD Graphics 6000  macOS       1.34  ...    0    0       0   \n",
       "2         Intel HD Graphics 620  No OS       1.86  ...  256    0       0   \n",
       "\n",
       "   Flash_Storage  Resolution Touchscreen  Cpu_Brand Cpu_Proc Cpu_GHz  \\\n",
       "0              0   2560x1600       False      Intel  Core i5     2.3   \n",
       "1            128    1440x900       False      Intel  Core i5     1.8   \n",
       "2              0   1920x1080       False      Intel  Core i5     2.5   \n",
       "\n",
       "     Gpu_Type  \n",
       "0  Intel Iris  \n",
       "1    Intel HD  \n",
       "2    Intel HD  \n",
       "\n",
       "[3 rows x 21 columns]"
      ]
     },
     "execution_count": 48,
     "metadata": {},
     "output_type": "execute_result"
    }
   ],
   "source": [
    "df.head(3)"
   ]
  },
  {
   "cell_type": "code",
   "execution_count": 49,
   "id": "995b62d3",
   "metadata": {},
   "outputs": [],
   "source": [
    "df.drop(columns=['ScreenResolution','Cpu','Memory','Gpu'],inplace=True)"
   ]
  },
  {
   "cell_type": "code",
   "execution_count": 50,
   "id": "8b3e20be",
   "metadata": {},
   "outputs": [
    {
     "data": {
      "text/html": [
       "<div>\n",
       "<style scoped>\n",
       "    .dataframe tbody tr th:only-of-type {\n",
       "        vertical-align: middle;\n",
       "    }\n",
       "\n",
       "    .dataframe tbody tr th {\n",
       "        vertical-align: top;\n",
       "    }\n",
       "\n",
       "    .dataframe thead th {\n",
       "        text-align: right;\n",
       "    }\n",
       "</style>\n",
       "<table border=\"1\" class=\"dataframe\">\n",
       "  <thead>\n",
       "    <tr style=\"text-align: right;\">\n",
       "      <th></th>\n",
       "      <th>Company</th>\n",
       "      <th>TypeName</th>\n",
       "      <th>Inches</th>\n",
       "      <th>Ram</th>\n",
       "      <th>OpSys</th>\n",
       "      <th>Weight_Kg</th>\n",
       "      <th>Price</th>\n",
       "      <th>SSD</th>\n",
       "      <th>HDD</th>\n",
       "      <th>Hybrid</th>\n",
       "      <th>Flash_Storage</th>\n",
       "      <th>Resolution</th>\n",
       "      <th>Touchscreen</th>\n",
       "      <th>Cpu_Brand</th>\n",
       "      <th>Cpu_Proc</th>\n",
       "      <th>Cpu_GHz</th>\n",
       "      <th>Gpu_Type</th>\n",
       "    </tr>\n",
       "  </thead>\n",
       "  <tbody>\n",
       "    <tr>\n",
       "      <th>0</th>\n",
       "      <td>Apple</td>\n",
       "      <td>Ultrabook</td>\n",
       "      <td>13.3</td>\n",
       "      <td>8</td>\n",
       "      <td>macOS</td>\n",
       "      <td>1.37</td>\n",
       "      <td>71378.6832</td>\n",
       "      <td>128</td>\n",
       "      <td>0</td>\n",
       "      <td>0</td>\n",
       "      <td>0</td>\n",
       "      <td>2560x1600</td>\n",
       "      <td>False</td>\n",
       "      <td>Intel</td>\n",
       "      <td>Core i5</td>\n",
       "      <td>2.3</td>\n",
       "      <td>Intel Iris</td>\n",
       "    </tr>\n",
       "    <tr>\n",
       "      <th>1</th>\n",
       "      <td>Apple</td>\n",
       "      <td>Ultrabook</td>\n",
       "      <td>13.3</td>\n",
       "      <td>8</td>\n",
       "      <td>macOS</td>\n",
       "      <td>1.34</td>\n",
       "      <td>47895.5232</td>\n",
       "      <td>0</td>\n",
       "      <td>0</td>\n",
       "      <td>0</td>\n",
       "      <td>128</td>\n",
       "      <td>1440x900</td>\n",
       "      <td>False</td>\n",
       "      <td>Intel</td>\n",
       "      <td>Core i5</td>\n",
       "      <td>1.8</td>\n",
       "      <td>Intel HD</td>\n",
       "    </tr>\n",
       "    <tr>\n",
       "      <th>2</th>\n",
       "      <td>HP</td>\n",
       "      <td>Notebook</td>\n",
       "      <td>15.6</td>\n",
       "      <td>8</td>\n",
       "      <td>No OS</td>\n",
       "      <td>1.86</td>\n",
       "      <td>30636.0000</td>\n",
       "      <td>256</td>\n",
       "      <td>0</td>\n",
       "      <td>0</td>\n",
       "      <td>0</td>\n",
       "      <td>1920x1080</td>\n",
       "      <td>False</td>\n",
       "      <td>Intel</td>\n",
       "      <td>Core i5</td>\n",
       "      <td>2.5</td>\n",
       "      <td>Intel HD</td>\n",
       "    </tr>\n",
       "    <tr>\n",
       "      <th>3</th>\n",
       "      <td>Apple</td>\n",
       "      <td>Ultrabook</td>\n",
       "      <td>15.4</td>\n",
       "      <td>16</td>\n",
       "      <td>macOS</td>\n",
       "      <td>1.83</td>\n",
       "      <td>135195.3360</td>\n",
       "      <td>512</td>\n",
       "      <td>0</td>\n",
       "      <td>0</td>\n",
       "      <td>0</td>\n",
       "      <td>2880x1800</td>\n",
       "      <td>False</td>\n",
       "      <td>Intel</td>\n",
       "      <td>Core i7</td>\n",
       "      <td>2.7</td>\n",
       "      <td>AMD Radeon</td>\n",
       "    </tr>\n",
       "    <tr>\n",
       "      <th>4</th>\n",
       "      <td>Apple</td>\n",
       "      <td>Ultrabook</td>\n",
       "      <td>13.3</td>\n",
       "      <td>8</td>\n",
       "      <td>macOS</td>\n",
       "      <td>1.37</td>\n",
       "      <td>96095.8080</td>\n",
       "      <td>256</td>\n",
       "      <td>0</td>\n",
       "      <td>0</td>\n",
       "      <td>0</td>\n",
       "      <td>2560x1600</td>\n",
       "      <td>False</td>\n",
       "      <td>Intel</td>\n",
       "      <td>Core i5</td>\n",
       "      <td>3.1</td>\n",
       "      <td>Intel Iris</td>\n",
       "    </tr>\n",
       "  </tbody>\n",
       "</table>\n",
       "</div>"
      ],
      "text/plain": [
       "  Company   TypeName  Inches  Ram  OpSys  Weight_Kg        Price  SSD  HDD  \\\n",
       "0   Apple  Ultrabook    13.3    8  macOS       1.37   71378.6832  128    0   \n",
       "1   Apple  Ultrabook    13.3    8  macOS       1.34   47895.5232    0    0   \n",
       "2      HP   Notebook    15.6    8  No OS       1.86   30636.0000  256    0   \n",
       "3   Apple  Ultrabook    15.4   16  macOS       1.83  135195.3360  512    0   \n",
       "4   Apple  Ultrabook    13.3    8  macOS       1.37   96095.8080  256    0   \n",
       "\n",
       "   Hybrid  Flash_Storage Resolution  Touchscreen Cpu_Brand Cpu_Proc  Cpu_GHz  \\\n",
       "0       0              0  2560x1600        False     Intel  Core i5      2.3   \n",
       "1       0            128   1440x900        False     Intel  Core i5      1.8   \n",
       "2       0              0  1920x1080        False     Intel  Core i5      2.5   \n",
       "3       0              0  2880x1800        False     Intel  Core i7      2.7   \n",
       "4       0              0  2560x1600        False     Intel  Core i5      3.1   \n",
       "\n",
       "     Gpu_Type  \n",
       "0  Intel Iris  \n",
       "1    Intel HD  \n",
       "2    Intel HD  \n",
       "3  AMD Radeon  \n",
       "4  Intel Iris  "
      ]
     },
     "execution_count": 50,
     "metadata": {},
     "output_type": "execute_result"
    }
   ],
   "source": [
    "df.head()"
   ]
  },
  {
   "cell_type": "code",
   "execution_count": 51,
   "id": "44a82502",
   "metadata": {},
   "outputs": [
    {
     "name": "stdout",
     "output_type": "stream",
     "text": [
      "<class 'pandas.core.frame.DataFrame'>\n",
      "Index: 1273 entries, 0 to 1302\n",
      "Data columns (total 17 columns):\n",
      " #   Column         Non-Null Count  Dtype  \n",
      "---  ------         --------------  -----  \n",
      " 0   Company        1273 non-null   object \n",
      " 1   TypeName       1273 non-null   object \n",
      " 2   Inches         1272 non-null   float64\n",
      " 3   Ram            1273 non-null   int64  \n",
      " 4   OpSys          1273 non-null   object \n",
      " 5   Weight_Kg      1272 non-null   float64\n",
      " 6   Price          1273 non-null   float64\n",
      " 7   SSD            1273 non-null   int64  \n",
      " 8   HDD            1273 non-null   int64  \n",
      " 9   Hybrid         1273 non-null   int64  \n",
      " 10  Flash_Storage  1273 non-null   int64  \n",
      " 11  Resolution     1273 non-null   object \n",
      " 12  Touchscreen    1273 non-null   bool   \n",
      " 13  Cpu_Brand      1273 non-null   object \n",
      " 14  Cpu_Proc       1273 non-null   object \n",
      " 15  Cpu_GHz        1273 non-null   float64\n",
      " 16  Gpu_Type       1273 non-null   object \n",
      "dtypes: bool(1), float64(4), int64(5), object(7)\n",
      "memory usage: 170.3+ KB\n"
     ]
    }
   ],
   "source": [
    "df.info()"
   ]
  },
  {
   "cell_type": "code",
   "execution_count": 52,
   "id": "fce74269",
   "metadata": {},
   "outputs": [
    {
     "data": {
      "text/plain": [
       "Company          0\n",
       "TypeName         0\n",
       "Inches           1\n",
       "Ram              0\n",
       "OpSys            0\n",
       "Weight_Kg        1\n",
       "Price            0\n",
       "SSD              0\n",
       "HDD              0\n",
       "Hybrid           0\n",
       "Flash_Storage    0\n",
       "Resolution       0\n",
       "Touchscreen      0\n",
       "Cpu_Brand        0\n",
       "Cpu_Proc         0\n",
       "Cpu_GHz          0\n",
       "Gpu_Type         0\n",
       "dtype: int64"
      ]
     },
     "execution_count": 52,
     "metadata": {},
     "output_type": "execute_result"
    }
   ],
   "source": [
    "df.isnull().sum()"
   ]
  },
  {
   "cell_type": "markdown",
   "id": "c21d4c9e",
   "metadata": {},
   "source": [
    "### Handling Empty or NULL values"
   ]
  },
  {
   "cell_type": "code",
   "execution_count": 53,
   "id": "109803eb",
   "metadata": {},
   "outputs": [
    {
     "data": {
      "image/png": "[encoded data removed]",
      "text/plain": [
       "<Figure size 800x300 with 2 Axes>"
      ]
     },
     "metadata": {},
     "output_type": "display_data"
    }
   ],
   "source": [
    "# columns with null values:  Inches, Weight_Kg\n",
    "fig, axs = plt.subplots(nrows=1,ncols=2,figsize=(8,3))\n",
    "\n",
    "sns.boxplot(data=df['Inches'], ax=axs[0])\n",
    "axs[0].set_title('Inches')\n",
    "\n",
    "sns.boxplot(data=df['Weight_Kg'], ax=axs[1])\n",
    "axs[1].set_title('Weight_Kg')\n",
    "\n",
    "plt.show()"
   ]
  },
  {
   "cell_type": "code",
   "execution_count": 54,
   "id": "5b322f46",
   "metadata": {},
   "outputs": [
    {
     "name": "stdout",
     "output_type": "stream",
     "text": [
      "Inches :\n",
      "\tMean: 15.130817610062895\n",
      "\tMedian: 15.6\n",
      "Weight_Kg :\n",
      "\tMean: 2.077618081761006\n",
      "\tMedian: 2.04\n"
     ]
    }
   ],
   "source": [
    "for c in ['Inches','Weight_Kg']:\n",
    "    mean = df[c].mean()\n",
    "    median = df[c].median()\n",
    "    print(f\"{c} :\")\n",
    "    print(f\"\\tMean: {mean}\")\n",
    "    print(f\"\\tMedian: {median}\")\n",
    "    df[c].fillna(median,inplace=True)"
   ]
  },
  {
   "cell_type": "code",
   "execution_count": 55,
   "id": "43b9ae02",
   "metadata": {},
   "outputs": [
    {
     "data": {
      "text/plain": [
       "Company          0\n",
       "TypeName         0\n",
       "Inches           0\n",
       "Ram              0\n",
       "OpSys            0\n",
       "Weight_Kg        0\n",
       "Price            0\n",
       "SSD              0\n",
       "HDD              0\n",
       "Hybrid           0\n",
       "Flash_Storage    0\n",
       "Resolution       0\n",
       "Touchscreen      0\n",
       "Cpu_Brand        0\n",
       "Cpu_Proc         0\n",
       "Cpu_GHz          0\n",
       "Gpu_Type         0\n",
       "dtype: int64"
      ]
     },
     "execution_count": 55,
     "metadata": {},
     "output_type": "execute_result"
    }
   ],
   "source": [
    "df.isnull().sum()"
   ]
  },
  {
   "cell_type": "markdown",
   "id": "d8d2a1ab",
   "metadata": {},
   "source": [
    "### Resetting Index and Exporting to new file"
   ]
  },
  {
   "cell_type": "code",
   "execution_count": 56,
   "id": "a5d4ad4d",
   "metadata": {},
   "outputs": [
    {
     "data": {
      "text/plain": [
       "(1273, 17)"
      ]
     },
     "execution_count": 56,
     "metadata": {},
     "output_type": "execute_result"
    }
   ],
   "source": [
    "df.shape"
   ]
  },
  {
   "cell_type": "code",
   "execution_count": 57,
   "id": "21892604",
   "metadata": {},
   "outputs": [
    {
     "data": {
      "text/html": [
       "<div>\n",
       "<style scoped>\n",
       "    .dataframe tbody tr th:only-of-type {\n",
       "        vertical-align: middle;\n",
       "    }\n",
       "\n",
       "    .dataframe tbody tr th {\n",
       "        vertical-align: top;\n",
       "    }\n",
       "\n",
       "    .dataframe thead th {\n",
       "        text-align: right;\n",
       "    }\n",
       "</style>\n",
       "<table border=\"1\" class=\"dataframe\">\n",
       "  <thead>\n",
       "    <tr style=\"text-align: right;\">\n",
       "      <th></th>\n",
       "      <th>Company</th>\n",
       "      <th>TypeName</th>\n",
       "      <th>Inches</th>\n",
       "      <th>Ram</th>\n",
       "      <th>OpSys</th>\n",
       "      <th>Weight_Kg</th>\n",
       "      <th>Price</th>\n",
       "      <th>SSD</th>\n",
       "      <th>HDD</th>\n",
       "      <th>Hybrid</th>\n",
       "      <th>Flash_Storage</th>\n",
       "      <th>Resolution</th>\n",
       "      <th>Touchscreen</th>\n",
       "      <th>Cpu_Brand</th>\n",
       "      <th>Cpu_Proc</th>\n",
       "      <th>Cpu_GHz</th>\n",
       "      <th>Gpu_Type</th>\n",
       "    </tr>\n",
       "  </thead>\n",
       "  <tbody>\n",
       "    <tr>\n",
       "      <th>1298</th>\n",
       "      <td>Lenovo</td>\n",
       "      <td>2 in 1 Convertible</td>\n",
       "      <td>14.0</td>\n",
       "      <td>4</td>\n",
       "      <td>Windows 10</td>\n",
       "      <td>1.80</td>\n",
       "      <td>33992.64</td>\n",
       "      <td>128</td>\n",
       "      <td>0</td>\n",
       "      <td>0</td>\n",
       "      <td>0</td>\n",
       "      <td>1920x1080</td>\n",
       "      <td>True</td>\n",
       "      <td>Intel</td>\n",
       "      <td>Core i7</td>\n",
       "      <td>2.5</td>\n",
       "      <td>Intel HD</td>\n",
       "    </tr>\n",
       "    <tr>\n",
       "      <th>1299</th>\n",
       "      <td>Lenovo</td>\n",
       "      <td>2 in 1 Convertible</td>\n",
       "      <td>13.3</td>\n",
       "      <td>16</td>\n",
       "      <td>Windows 10</td>\n",
       "      <td>1.30</td>\n",
       "      <td>79866.72</td>\n",
       "      <td>512</td>\n",
       "      <td>0</td>\n",
       "      <td>0</td>\n",
       "      <td>0</td>\n",
       "      <td>3200x1800</td>\n",
       "      <td>True</td>\n",
       "      <td>Intel</td>\n",
       "      <td>Core i7</td>\n",
       "      <td>2.5</td>\n",
       "      <td>Intel HD</td>\n",
       "    </tr>\n",
       "    <tr>\n",
       "      <th>1300</th>\n",
       "      <td>Lenovo</td>\n",
       "      <td>Notebook</td>\n",
       "      <td>14.0</td>\n",
       "      <td>2</td>\n",
       "      <td>Windows 10</td>\n",
       "      <td>1.50</td>\n",
       "      <td>12201.12</td>\n",
       "      <td>0</td>\n",
       "      <td>0</td>\n",
       "      <td>0</td>\n",
       "      <td>64</td>\n",
       "      <td>1366x768</td>\n",
       "      <td>False</td>\n",
       "      <td>Intel</td>\n",
       "      <td>Celeron Dual Core</td>\n",
       "      <td>1.6</td>\n",
       "      <td>Intel HD</td>\n",
       "    </tr>\n",
       "    <tr>\n",
       "      <th>1301</th>\n",
       "      <td>HP</td>\n",
       "      <td>Notebook</td>\n",
       "      <td>15.6</td>\n",
       "      <td>6</td>\n",
       "      <td>Windows 10</td>\n",
       "      <td>2.19</td>\n",
       "      <td>40705.92</td>\n",
       "      <td>0</td>\n",
       "      <td>1000</td>\n",
       "      <td>0</td>\n",
       "      <td>0</td>\n",
       "      <td>1366x768</td>\n",
       "      <td>False</td>\n",
       "      <td>Intel</td>\n",
       "      <td>Core i7</td>\n",
       "      <td>2.5</td>\n",
       "      <td>AMD Radeon</td>\n",
       "    </tr>\n",
       "    <tr>\n",
       "      <th>1302</th>\n",
       "      <td>Asus</td>\n",
       "      <td>Notebook</td>\n",
       "      <td>15.6</td>\n",
       "      <td>4</td>\n",
       "      <td>Windows 10</td>\n",
       "      <td>2.20</td>\n",
       "      <td>19660.32</td>\n",
       "      <td>0</td>\n",
       "      <td>500</td>\n",
       "      <td>0</td>\n",
       "      <td>0</td>\n",
       "      <td>1366x768</td>\n",
       "      <td>False</td>\n",
       "      <td>Intel</td>\n",
       "      <td>Celeron Dual Core</td>\n",
       "      <td>1.6</td>\n",
       "      <td>Intel HD</td>\n",
       "    </tr>\n",
       "  </tbody>\n",
       "</table>\n",
       "</div>"
      ],
      "text/plain": [
       "     Company            TypeName  Inches  Ram       OpSys  Weight_Kg  \\\n",
       "1298  Lenovo  2 in 1 Convertible    14.0    4  Windows 10       1.80   \n",
       "1299  Lenovo  2 in 1 Convertible    13.3   16  Windows 10       1.30   \n",
       "1300  Lenovo            Notebook    14.0    2  Windows 10       1.50   \n",
       "1301      HP            Notebook    15.6    6  Windows 10       2.19   \n",
       "1302    Asus            Notebook    15.6    4  Windows 10       2.20   \n",
       "\n",
       "         Price  SSD   HDD  Hybrid  Flash_Storage Resolution  Touchscreen  \\\n",
       "1298  33992.64  128     0       0              0  1920x1080         True   \n",
       "1299  79866.72  512     0       0              0  3200x1800         True   \n",
       "1300  12201.12    0     0       0             64   1366x768        False   \n",
       "1301  40705.92    0  1000       0              0   1366x768        False   \n",
       "1302  19660.32    0   500       0              0   1366x768        False   \n",
       "\n",
       "     Cpu_Brand           Cpu_Proc  Cpu_GHz    Gpu_Type  \n",
       "1298     Intel            Core i7      2.5    Intel HD  \n",
       "1299     Intel            Core i7      2.5    Intel HD  \n",
       "1300     Intel  Celeron Dual Core      1.6    Intel HD  \n",
       "1301     Intel            Core i7      2.5  AMD Radeon  \n",
       "1302     Intel  Celeron Dual Core      1.6    Intel HD  "
      ]
     },
     "execution_count": 57,
     "metadata": {},
     "output_type": "execute_result"
    }
   ],
   "source": [
    "df.tail()"
   ]
  },
  {
   "cell_type": "code",
   "execution_count": 58,
   "id": "80713228",
   "metadata": {},
   "outputs": [],
   "source": [
    "df.reset_index(drop=True,inplace=True)"
   ]
  },
  {
   "cell_type": "code",
   "execution_count": 59,
   "id": "85844430",
   "metadata": {},
   "outputs": [
    {
     "name": "stdout",
     "output_type": "stream",
     "text": [
      "(1273, 17)\n"
     ]
    },
    {
     "data": {
      "text/html": [
       "<div>\n",
       "<style scoped>\n",
       "    .dataframe tbody tr th:only-of-type {\n",
       "        vertical-align: middle;\n",
       "    }\n",
       "\n",
       "    .dataframe tbody tr th {\n",
       "        vertical-align: top;\n",
       "    }\n",
       "\n",
       "    .dataframe thead th {\n",
       "        text-align: right;\n",
       "    }\n",
       "</style>\n",
       "<table border=\"1\" class=\"dataframe\">\n",
       "  <thead>\n",
       "    <tr style=\"text-align: right;\">\n",
       "      <th></th>\n",
       "      <th>Company</th>\n",
       "      <th>TypeName</th>\n",
       "      <th>Inches</th>\n",
       "      <th>Ram</th>\n",
       "      <th>OpSys</th>\n",
       "      <th>Weight_Kg</th>\n",
       "      <th>Price</th>\n",
       "      <th>SSD</th>\n",
       "      <th>HDD</th>\n",
       "      <th>Hybrid</th>\n",
       "      <th>Flash_Storage</th>\n",
       "      <th>Resolution</th>\n",
       "      <th>Touchscreen</th>\n",
       "      <th>Cpu_Brand</th>\n",
       "      <th>Cpu_Proc</th>\n",
       "      <th>Cpu_GHz</th>\n",
       "      <th>Gpu_Type</th>\n",
       "    </tr>\n",
       "  </thead>\n",
       "  <tbody>\n",
       "    <tr>\n",
       "      <th>1268</th>\n",
       "      <td>Lenovo</td>\n",
       "      <td>2 in 1 Convertible</td>\n",
       "      <td>14.0</td>\n",
       "      <td>4</td>\n",
       "      <td>Windows 10</td>\n",
       "      <td>1.80</td>\n",
       "      <td>33992.64</td>\n",
       "      <td>128</td>\n",
       "      <td>0</td>\n",
       "      <td>0</td>\n",
       "      <td>0</td>\n",
       "      <td>1920x1080</td>\n",
       "      <td>True</td>\n",
       "      <td>Intel</td>\n",
       "      <td>Core i7</td>\n",
       "      <td>2.5</td>\n",
       "      <td>Intel HD</td>\n",
       "    </tr>\n",
       "    <tr>\n",
       "      <th>1269</th>\n",
       "      <td>Lenovo</td>\n",
       "      <td>2 in 1 Convertible</td>\n",
       "      <td>13.3</td>\n",
       "      <td>16</td>\n",
       "      <td>Windows 10</td>\n",
       "      <td>1.30</td>\n",
       "      <td>79866.72</td>\n",
       "      <td>512</td>\n",
       "      <td>0</td>\n",
       "      <td>0</td>\n",
       "      <td>0</td>\n",
       "      <td>3200x1800</td>\n",
       "      <td>True</td>\n",
       "      <td>Intel</td>\n",
       "      <td>Core i7</td>\n",
       "      <td>2.5</td>\n",
       "      <td>Intel HD</td>\n",
       "    </tr>\n",
       "    <tr>\n",
       "      <th>1270</th>\n",
       "      <td>Lenovo</td>\n",
       "      <td>Notebook</td>\n",
       "      <td>14.0</td>\n",
       "      <td>2</td>\n",
       "      <td>Windows 10</td>\n",
       "      <td>1.50</td>\n",
       "      <td>12201.12</td>\n",
       "      <td>0</td>\n",
       "      <td>0</td>\n",
       "      <td>0</td>\n",
       "      <td>64</td>\n",
       "      <td>1366x768</td>\n",
       "      <td>False</td>\n",
       "      <td>Intel</td>\n",
       "      <td>Celeron Dual Core</td>\n",
       "      <td>1.6</td>\n",
       "      <td>Intel HD</td>\n",
       "    </tr>\n",
       "    <tr>\n",
       "      <th>1271</th>\n",
       "      <td>HP</td>\n",
       "      <td>Notebook</td>\n",
       "      <td>15.6</td>\n",
       "      <td>6</td>\n",
       "      <td>Windows 10</td>\n",
       "      <td>2.19</td>\n",
       "      <td>40705.92</td>\n",
       "      <td>0</td>\n",
       "      <td>1000</td>\n",
       "      <td>0</td>\n",
       "      <td>0</td>\n",
       "      <td>1366x768</td>\n",
       "      <td>False</td>\n",
       "      <td>Intel</td>\n",
       "      <td>Core i7</td>\n",
       "      <td>2.5</td>\n",
       "      <td>AMD Radeon</td>\n",
       "    </tr>\n",
       "    <tr>\n",
       "      <th>1272</th>\n",
       "      <td>Asus</td>\n",
       "      <td>Notebook</td>\n",
       "      <td>15.6</td>\n",
       "      <td>4</td>\n",
       "      <td>Windows 10</td>\n",
       "      <td>2.20</td>\n",
       "      <td>19660.32</td>\n",
       "      <td>0</td>\n",
       "      <td>500</td>\n",
       "      <td>0</td>\n",
       "      <td>0</td>\n",
       "      <td>1366x768</td>\n",
       "      <td>False</td>\n",
       "      <td>Intel</td>\n",
       "      <td>Celeron Dual Core</td>\n",
       "      <td>1.6</td>\n",
       "      <td>Intel HD</td>\n",
       "    </tr>\n",
       "  </tbody>\n",
       "</table>\n",
       "</div>"
      ],
      "text/plain": [
       "     Company            TypeName  Inches  Ram       OpSys  Weight_Kg  \\\n",
       "1268  Lenovo  2 in 1 Convertible    14.0    4  Windows 10       1.80   \n",
       "1269  Lenovo  2 in 1 Convertible    13.3   16  Windows 10       1.30   \n",
       "1270  Lenovo            Notebook    14.0    2  Windows 10       1.50   \n",
       "1271      HP            Notebook    15.6    6  Windows 10       2.19   \n",
       "1272    Asus            Notebook    15.6    4  Windows 10       2.20   \n",
       "\n",
       "         Price  SSD   HDD  Hybrid  Flash_Storage Resolution  Touchscreen  \\\n",
       "1268  33992.64  128     0       0              0  1920x1080         True   \n",
       "1269  79866.72  512     0       0              0  3200x1800         True   \n",
       "1270  12201.12    0     0       0             64   1366x768        False   \n",
       "1271  40705.92    0  1000       0              0   1366x768        False   \n",
       "1272  19660.32    0   500       0              0   1366x768        False   \n",
       "\n",
       "     Cpu_Brand           Cpu_Proc  Cpu_GHz    Gpu_Type  \n",
       "1268     Intel            Core i7      2.5    Intel HD  \n",
       "1269     Intel            Core i7      2.5    Intel HD  \n",
       "1270     Intel  Celeron Dual Core      1.6    Intel HD  \n",
       "1271     Intel            Core i7      2.5  AMD Radeon  \n",
       "1272     Intel  Celeron Dual Core      1.6    Intel HD  "
      ]
     },
     "execution_count": 59,
     "metadata": {},
     "output_type": "execute_result"
    }
   ],
   "source": [
    "print(df.shape)\n",
    "df.tail()"
   ]
  },
  {
   "cell_type": "code",
   "execution_count": 64,
   "id": "9d14dd6d",
   "metadata": {},
   "outputs": [],
   "source": [
    "if not os.path.isfile('featured_laptop.csv'):\n",
    "    df.to_csv('featured_laptop.csv',index=False)"
   ]
  },
  {
   "cell_type": "code",
   "execution_count": null,
   "id": "07dcc2f1",
   "metadata": {},
   "outputs": [],
   "source": []
  }
 ],
 "metadata": {
  "kernelspec": {
   "display_name": "Python 3 (ipykernel)",
   "language": "python",
   "name": "python3"
  },
  "language_info": {
   "codemirror_mode": {
    "name": "ipython",
    "version": 3
   },
   "file_extension": ".py",
   "mimetype": "text/x-python",
   "name": "python",
   "nbconvert_exporter": "python",
   "pygments_lexer": "ipython3",
   "version": "3.11.5"
  }
 },
 "nbformat": 4,
 "nbformat_minor": 5
}
